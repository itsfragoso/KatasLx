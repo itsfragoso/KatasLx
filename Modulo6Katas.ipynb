{
 "cells": [
  {
   "cell_type": "markdown",
   "metadata": {},
   "source": [
    "## Ejercicio 1"
   ]
  },
  {
   "cell_type": "code",
   "execution_count": 3,
   "metadata": {},
   "outputs": [
    {
     "name": "stdout",
     "output_type": "stream",
     "text": [
      "En el sistema solar hay:  8 planetas\n",
      "Pluton es el ultimo planeta\n"
     ]
    }
   ],
   "source": [
    "planetas = ['Mercurio', 'Venus', 'Tierra', 'Marte', 'Jupiter', 'Saturno', 'Urano', 'Neptuno']\n",
    "\n",
    "print('En el sistema solar hay: ', len(planetas), 'planetas')\n",
    "\n",
    "planetas.append('Pluton')\n",
    "\n",
    "print(planetas[-1], 'es el ultimo planeta')"
   ]
  },
  {
   "cell_type": "markdown",
   "metadata": {},
   "source": [
    "## Ejercicio 2"
   ]
  },
  {
   "cell_type": "code",
   "execution_count": 13,
   "metadata": {},
   "outputs": [
    {
     "name": "stdout",
     "output_type": "stream",
     "text": [
      "A continuación se listan los planetas mas cerca del solPluton\n",
      "['Mercurio', 'Venus', 'Tierra', 'Marte', 'Jupiter', 'Saturno', 'Urano', 'Neptuno']\n",
      "A continuación se listan los planetas mas lejos del solPluton\n",
      "[]\n"
     ]
    }
   ],
   "source": [
    "planetas = ['Mercurio', 'Venus', 'Tierra', 'Marte', 'Jupiter', 'Saturno', 'Urano', 'Neptuno', 'Pluton']\n",
    "\n",
    "user_planeta = input('Ingrese el nombre del planeta faltante (iniciando con mayuscula)')\n",
    "\n",
    "planetas_index = planetas.index(user_planeta)\n",
    "\n",
    "print('A continuación se listan los planetas mas cerca del sol' + user_planeta)\n",
    "print(planetas[0:planetas_index])\n",
    "\n",
    "print('A continuación se listan los planetas mas lejos del sol' + user_planeta)\n",
    "print(planetas[planetas_index + 1:])\n",
    "\n"
   ]
  }
 ],
 "metadata": {
  "interpreter": {
   "hash": "2f23cf5811b7e022e5679154ab8eb4978d60014293737530ccaf6faa0cec719d"
  },
  "kernelspec": {
   "display_name": "Python 3.8.3 ('base')",
   "language": "python",
   "name": "python3"
  },
  "language_info": {
   "codemirror_mode": {
    "name": "ipython",
    "version": 3
   },
   "file_extension": ".py",
   "mimetype": "text/x-python",
   "name": "python",
   "nbconvert_exporter": "python",
   "pygments_lexer": "ipython3",
   "version": "3.8.3"
  },
  "orig_nbformat": 4
 },
 "nbformat": 4,
 "nbformat_minor": 2
}
