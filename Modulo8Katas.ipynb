{
 "cells": [
  {
   "cell_type": "markdown",
   "metadata": {},
   "source": [
    "## Ejercicio 1 "
   ]
  },
  {
   "cell_type": "code",
   "execution_count": 2,
   "metadata": {},
   "outputs": [
    {
     "name": "stdout",
     "output_type": "stream",
     "text": [
      "Marte tiene 2 lunas\n",
      "Marte tiene una circunferencia polar de 6752\n"
     ]
    }
   ],
   "source": [
    "planeta = {\n",
    "    'nombre' : 'Marte',\n",
    "    'lunas' : 2\n",
    "}\n",
    "\n",
    "print(f'{planeta[\"nombre\"]} tiene {planeta[\"lunas\"]} lunas')\n",
    "\n",
    "planeta['circunferencia (km)'] = {\n",
    "    'polar' : 6752,\n",
    "    'equatorial' : 6792\n",
    "}\n",
    "\n",
    "print(f'{planeta[\"nombre\"]} tiene una circunferencia polar de {planeta[\"circunferencia (km)\"][\"polar\"]}')\n"
   ]
  },
  {
   "cell_type": "markdown",
   "metadata": {},
   "source": [
    "## Ejercicio 2"
   ]
  },
  {
   "cell_type": "code",
   "execution_count": 3,
   "metadata": {},
   "outputs": [
    {
     "name": "stdout",
     "output_type": "stream",
     "text": [
      "17.833333333333332\n"
     ]
    }
   ],
   "source": [
    "planeta_lunas = {\n",
    "    'mercurio': 0,\n",
    "    'venus': 0,\n",
    "    'tierra': 1,\n",
    "    'marte': 2,\n",
    "    'jupiter': 79,\n",
    "    'saturno': 82,\n",
    "    'urano': 27,\n",
    "    'neptuno': 14,\n",
    "    'pluton': 5,\n",
    "    'haumea': 2,\n",
    "    'makemake': 1,\n",
    "    'eris': 1\n",
    "}\n",
    "\n",
    "lunas = planeta_lunas.values()\n",
    "\n",
    "planetas = len(planeta_lunas.keys())\n",
    "\n",
    "total_lunas = 0\n",
    "for luna in lunas:\n",
    "    total_lunas = total_lunas + luna\n",
    "\n",
    "average = total_lunas/planetas\n",
    "\n",
    "print(average)"
   ]
  }
 ],
 "metadata": {
  "interpreter": {
   "hash": "2f23cf5811b7e022e5679154ab8eb4978d60014293737530ccaf6faa0cec719d"
  },
  "kernelspec": {
   "display_name": "Python 3.8.3 ('base')",
   "language": "python",
   "name": "python3"
  },
  "language_info": {
   "codemirror_mode": {
    "name": "ipython",
    "version": 3
   },
   "file_extension": ".py",
   "mimetype": "text/x-python",
   "name": "python",
   "nbconvert_exporter": "python",
   "pygments_lexer": "ipython3",
   "version": "3.8.3"
  },
  "orig_nbformat": 4
 },
 "nbformat": 4,
 "nbformat_minor": 2
}
