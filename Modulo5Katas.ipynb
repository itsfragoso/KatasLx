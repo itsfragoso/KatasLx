{
 "cells": [
  {
   "cell_type": "markdown",
   "metadata": {},
   "source": [
    "## Ejercicio 1"
   ]
  },
  {
   "cell_type": "code",
   "execution_count": 1,
   "metadata": {},
   "outputs": [
    {
     "name": "stdout",
     "output_type": "stream",
     "text": [
      "628949330\n",
      "390577533.93\n"
     ]
    }
   ],
   "source": [
    "Planeta1 = 149597870\n",
    "Planeta2 = 778547200\n",
    "\n",
    "Dis_km = Planeta2 - Planeta1\n",
    "print(Dis_km)\n",
    "\n",
    "Dis_mi = Dis_km * 0.621\n",
    "print(Dis_mi)"
   ]
  },
  {
   "cell_type": "markdown",
   "metadata": {},
   "source": [
    "## Ejercicio 2"
   ]
  },
  {
   "cell_type": "code",
   "execution_count": 5,
   "metadata": {},
   "outputs": [
    {
     "name": "stdout",
     "output_type": "stream",
     "text": [
      "4.999999999999998\n",
      "3.104999999999999\n"
     ]
    }
   ],
   "source": [
    "Planeta_1 = input('Introduzca la distancia del sol para el primer planeta en KM')\n",
    "Planeta_2 = input('Introduzca la distancia desde el sol para el segundo planeta en KM')\n",
    "\n",
    "Planeta_1 = float(Planeta_1)\n",
    "Planeta_2 = float(Planeta_2)\n",
    "\n",
    "dist_km = Planeta_2 - Planeta_1\n",
    "print(abs(dist_km))\n",
    "\n",
    "dist_mi = dist_km * 0.621\n",
    "print(abs(dist_mi))"
   ]
  }
 ],
 "metadata": {
  "interpreter": {
   "hash": "2f23cf5811b7e022e5679154ab8eb4978d60014293737530ccaf6faa0cec719d"
  },
  "kernelspec": {
   "display_name": "Python 3.8.3 ('base')",
   "language": "python",
   "name": "python3"
  },
  "language_info": {
   "codemirror_mode": {
    "name": "ipython",
    "version": 3
   },
   "file_extension": ".py",
   "mimetype": "text/x-python",
   "name": "python",
   "nbconvert_exporter": "python",
   "pygments_lexer": "ipython3",
   "version": "3.8.3"
  },
  "orig_nbformat": 4
 },
 "nbformat": 4,
 "nbformat_minor": 2
}
